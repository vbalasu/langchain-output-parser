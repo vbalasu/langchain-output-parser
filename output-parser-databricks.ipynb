{
 "cells": [
  {
   "cell_type": "code",
   "execution_count": 1,
   "id": "a2959350-bcfd-4ec1-8035-f5b8adb457b5",
   "metadata": {
    "tags": []
   },
   "outputs": [
    {
     "data": {
      "text/plain": [
       "True"
      ]
     },
     "execution_count": 1,
     "metadata": {},
     "output_type": "execute_result"
    }
   ],
   "source": [
    "from dotenv import load_dotenv\n",
    "load_dotenv()"
   ]
  },
  {
   "cell_type": "code",
   "execution_count": 2,
   "id": "c86264c4-f39e-4e9f-a543-1569a0e050a5",
   "metadata": {
    "tags": []
   },
   "outputs": [],
   "source": [
    "from langchain_core.output_parsers import JsonOutputParser\n",
    "from langchain_core.pydantic_v1 import BaseModel, Field\n",
    "class NutritionFacts(BaseModel):\n",
    "  calories: float = Field(description='Total calories')\n",
    "  fat: float = Field(description='Total fat in grams')\n",
    "  carbohydrates: float = Field(description='Total carbohydrates in grams')\n",
    "  sodium: float = Field(description='Total sodium in milligrams')\n",
    "parser = JsonOutputParser(pydantic_object=NutritionFacts)"
   ]
  },
  {
   "cell_type": "code",
   "execution_count": 3,
   "id": "350e50de-783f-444c-bc25-4ed5a1bcbfec",
   "metadata": {
    "tags": []
   },
   "outputs": [
    {
     "data": {
      "text/plain": [
       "'The output should be formatted as a JSON instance that conforms to the JSON schema below.\\n\\nAs an example, for the schema {\"properties\": {\"foo\": {\"title\": \"Foo\", \"description\": \"a list of strings\", \"type\": \"array\", \"items\": {\"type\": \"string\"}}}, \"required\": [\"foo\"]}\\nthe object {\"foo\": [\"bar\", \"baz\"]} is a well-formatted instance of the schema. The object {\"properties\": {\"foo\": [\"bar\", \"baz\"]}} is not well-formatted.\\n\\nHere is the output schema:\\n```\\n{\"properties\": {\"calories\": {\"title\": \"Calories\", \"description\": \"Total calories\", \"type\": \"number\"}, \"fat\": {\"title\": \"Fat\", \"description\": \"Total fat in grams\", \"type\": \"number\"}, \"carbohydrates\": {\"title\": \"Carbohydrates\", \"description\": \"Total carbohydrates in grams\", \"type\": \"number\"}, \"sodium\": {\"title\": \"Sodium\", \"description\": \"Total sodium in milligrams\", \"type\": \"number\"}}, \"required\": [\"calories\", \"fat\", \"carbohydrates\", \"sodium\"]}\\n```'"
      ]
     },
     "execution_count": 3,
     "metadata": {},
     "output_type": "execute_result"
    }
   ],
   "source": [
    "format_instructions = parser.get_format_instructions()\n",
    "format_instructions"
   ]
  },
  {
   "cell_type": "code",
   "execution_count": 4,
   "id": "ff5038aa-3824-4813-a0a9-3b80c315236f",
   "metadata": {
    "tags": []
   },
   "outputs": [],
   "source": [
    "from langchain_community.llms.databricks import Databricks\n",
    "from langchain.prompts import ChatPromptTemplate, PromptTemplate\n",
    "from langchain.chains import LLMChain"
   ]
  },
  {
   "cell_type": "code",
   "execution_count": 5,
   "id": "811b2036-feb4-4e72-b241-e15c0d213925",
   "metadata": {
    "tags": []
   },
   "outputs": [
    {
     "data": {
      "text/plain": [
       "'https://e2-demo-west.cloud.databricks.com'"
      ]
     },
     "execution_count": 5,
     "metadata": {},
     "output_type": "execute_result"
    }
   ],
   "source": [
    "import os\n",
    "os.environ.get('DATABRICKS_HOST')"
   ]
  },
  {
   "cell_type": "code",
   "execution_count": 6,
   "id": "867f47ae-cfc5-41b3-b8e2-c62764bce681",
   "metadata": {
    "tags": []
   },
   "outputs": [],
   "source": [
    "llm = Databricks(endpoint_name='databricks-mpt-30b-instruct', extra_params={'temperature': 0.0})"
   ]
  },
  {
   "cell_type": "code",
   "execution_count": 7,
   "id": "094947d1-f38a-41cf-aad7-70fc5c212273",
   "metadata": {
    "tags": []
   },
   "outputs": [
    {
     "data": {
      "text/plain": [
       "PromptTemplate(input_variables=['fruit'], partial_variables={'format_instructions': 'The output should be formatted as a JSON instance that conforms to the JSON schema below.\\n\\nAs an example, for the schema {\"properties\": {\"foo\": {\"title\": \"Foo\", \"description\": \"a list of strings\", \"type\": \"array\", \"items\": {\"type\": \"string\"}}}, \"required\": [\"foo\"]}\\nthe object {\"foo\": [\"bar\", \"baz\"]} is a well-formatted instance of the schema. The object {\"properties\": {\"foo\": [\"bar\", \"baz\"]}} is not well-formatted.\\n\\nHere is the output schema:\\n```\\n{\"properties\": {\"calories\": {\"title\": \"Calories\", \"description\": \"Total calories\", \"type\": \"number\"}, \"fat\": {\"title\": \"Fat\", \"description\": \"Total fat in grams\", \"type\": \"number\"}, \"carbohydrates\": {\"title\": \"Carbohydrates\", \"description\": \"Total carbohydrates in grams\", \"type\": \"number\"}, \"sodium\": {\"title\": \"Sodium\", \"description\": \"Total sodium in milligrams\", \"type\": \"number\"}}, \"required\": [\"calories\", \"fat\", \"carbohydrates\", \"sodium\"]}\\n```'}, template='What are the nutrition facts for a single {fruit}? You must format your output as a JSON object.\\n{format_instructions}')"
      ]
     },
     "execution_count": 7,
     "metadata": {},
     "output_type": "execute_result"
    }
   ],
   "source": [
    "prompt = PromptTemplate.from_template(template=\"\"\"What are the nutrition facts for a single {fruit}? You must format your output as a JSON object.\\n{format_instructions}\"\"\",\n",
    "                                     partial_variables={'format_instructions': format_instructions})\n",
    "prompt"
   ]
  },
  {
   "cell_type": "code",
   "execution_count": 8,
   "id": "a4b0883f-1199-4331-a370-d238f5bf09f4",
   "metadata": {
    "tags": []
   },
   "outputs": [],
   "source": [
    "# The standard output_parser doesn't work with MPT-30b due to extra characters\n",
    "# Hence we are defining our own \"extract_json\" function\n",
    "from extract_json import extract_json"
   ]
  },
  {
   "cell_type": "code",
   "execution_count": 9,
   "id": "d3b08011-80a7-4c17-8b39-32091c022ffe",
   "metadata": {
    "tags": []
   },
   "outputs": [
    {
     "data": {
      "text/plain": [
       "LLMChain(verbose=True, prompt=PromptTemplate(input_variables=['fruit'], partial_variables={'format_instructions': 'The output should be formatted as a JSON instance that conforms to the JSON schema below.\\n\\nAs an example, for the schema {\"properties\": {\"foo\": {\"title\": \"Foo\", \"description\": \"a list of strings\", \"type\": \"array\", \"items\": {\"type\": \"string\"}}}, \"required\": [\"foo\"]}\\nthe object {\"foo\": [\"bar\", \"baz\"]} is a well-formatted instance of the schema. The object {\"properties\": {\"foo\": [\"bar\", \"baz\"]}} is not well-formatted.\\n\\nHere is the output schema:\\n```\\n{\"properties\": {\"calories\": {\"title\": \"Calories\", \"description\": \"Total calories\", \"type\": \"number\"}, \"fat\": {\"title\": \"Fat\", \"description\": \"Total fat in grams\", \"type\": \"number\"}, \"carbohydrates\": {\"title\": \"Carbohydrates\", \"description\": \"Total carbohydrates in grams\", \"type\": \"number\"}, \"sodium\": {\"title\": \"Sodium\", \"description\": \"Total sodium in milligrams\", \"type\": \"number\"}}, \"required\": [\"calories\", \"fat\", \"carbohydrates\", \"sodium\"]}\\n```'}, template='What are the nutrition facts for a single {fruit}? You must format your output as a JSON object.\\n{format_instructions}'), llm=Databricks(endpoint_name='databricks-mpt-30b-instruct', extra_params={'temperature': 0.0}))"
      ]
     },
     "execution_count": 9,
     "metadata": {},
     "output_type": "execute_result"
    }
   ],
   "source": [
    "chain = LLMChain(llm=llm, prompt=prompt, verbose=True)  # output_parser=parser, \n",
    "#chain = prompt | llm\n",
    "chain"
   ]
  },
  {
   "cell_type": "code",
   "execution_count": 10,
   "id": "558fd500-dcb6-4385-8549-d2cd3f8fc22d",
   "metadata": {
    "tags": []
   },
   "outputs": [
    {
     "name": "stderr",
     "output_type": "stream",
     "text": [
      "/Users/vijay.balasubramaniam/anaconda3/lib/python3.11/site-packages/langchain_core/_api/deprecation.py:117: LangChainDeprecationWarning: The function `run` was deprecated in LangChain 0.1.0 and will be removed in 0.2.0. Use invoke instead.\n",
      "  warn_deprecated(\n"
     ]
    },
    {
     "name": "stdout",
     "output_type": "stream",
     "text": [
      "\n",
      "\n",
      "\u001b[1m> Entering new LLMChain chain...\u001b[0m\n",
      "Prompt after formatting:\n",
      "\u001b[32;1m\u001b[1;3mWhat are the nutrition facts for a single avocado? You must format your output as a JSON object.\n",
      "The output should be formatted as a JSON instance that conforms to the JSON schema below.\n",
      "\n",
      "As an example, for the schema {\"properties\": {\"foo\": {\"title\": \"Foo\", \"description\": \"a list of strings\", \"type\": \"array\", \"items\": {\"type\": \"string\"}}}, \"required\": [\"foo\"]}\n",
      "the object {\"foo\": [\"bar\", \"baz\"]} is a well-formatted instance of the schema. The object {\"properties\": {\"foo\": [\"bar\", \"baz\"]}} is not well-formatted.\n",
      "\n",
      "Here is the output schema:\n",
      "```\n",
      "{\"properties\": {\"calories\": {\"title\": \"Calories\", \"description\": \"Total calories\", \"type\": \"number\"}, \"fat\": {\"title\": \"Fat\", \"description\": \"Total fat in grams\", \"type\": \"number\"}, \"carbohydrates\": {\"title\": \"Carbohydrates\", \"description\": \"Total carbohydrates in grams\", \"type\": \"number\"}, \"sodium\": {\"title\": \"Sodium\", \"description\": \"Total sodium in milligrams\", \"type\": \"number\"}}, \"required\": [\"calories\", \"fat\", \"carbohydrates\", \"sodium\"]}\n",
      "```\u001b[0m\n",
      "\n",
      "\u001b[1m> Finished chain.\u001b[0m\n"
     ]
    },
    {
     "data": {
      "text/plain": [
       "{'calories': 255, 'fat': 21.0, 'carbohydrates': 14.0, 'sodium': 1.0}"
      ]
     },
     "execution_count": 10,
     "metadata": {},
     "output_type": "execute_result"
    }
   ],
   "source": [
    "avocado_nutrition_facts = extract_json(chain.run('avocado'))\n",
    "avocado_nutrition_facts"
   ]
  },
  {
   "cell_type": "code",
   "execution_count": 11,
   "id": "27765da0-3ab5-4b2a-bae5-cd20057c63b1",
   "metadata": {
    "tags": []
   },
   "outputs": [
    {
     "name": "stdout",
     "output_type": "stream",
     "text": [
      "\n",
      "\n",
      "\u001b[1m> Entering new LLMChain chain...\u001b[0m\n",
      "Prompt after formatting:\n",
      "\u001b[32;1m\u001b[1;3mWhat are the nutrition facts for a single apple? You must format your output as a JSON object.\n",
      "The output should be formatted as a JSON instance that conforms to the JSON schema below.\n",
      "\n",
      "As an example, for the schema {\"properties\": {\"foo\": {\"title\": \"Foo\", \"description\": \"a list of strings\", \"type\": \"array\", \"items\": {\"type\": \"string\"}}}, \"required\": [\"foo\"]}\n",
      "the object {\"foo\": [\"bar\", \"baz\"]} is a well-formatted instance of the schema. The object {\"properties\": {\"foo\": [\"bar\", \"baz\"]}} is not well-formatted.\n",
      "\n",
      "Here is the output schema:\n",
      "```\n",
      "{\"properties\": {\"calories\": {\"title\": \"Calories\", \"description\": \"Total calories\", \"type\": \"number\"}, \"fat\": {\"title\": \"Fat\", \"description\": \"Total fat in grams\", \"type\": \"number\"}, \"carbohydrates\": {\"title\": \"Carbohydrates\", \"description\": \"Total carbohydrates in grams\", \"type\": \"number\"}, \"sodium\": {\"title\": \"Sodium\", \"description\": \"Total sodium in milligrams\", \"type\": \"number\"}}, \"required\": [\"calories\", \"fat\", \"carbohydrates\", \"sodium\"]}\n",
      "```\u001b[0m\n",
      "\n",
      "\u001b[1m> Finished chain.\u001b[0m\n"
     ]
    },
    {
     "data": {
      "text/plain": [
       "{'calories': 52, 'fat': 0.2, 'carbohydrates': 13.5, 'sodium': 0}"
      ]
     },
     "execution_count": 11,
     "metadata": {},
     "output_type": "execute_result"
    }
   ],
   "source": [
    "apple_nutrition_facts = extract_json(chain.run('apple'))\n",
    "apple_nutrition_facts"
   ]
  },
  {
   "cell_type": "code",
   "execution_count": 12,
   "id": "2d5a3697-a9cc-48d1-b960-ffb3caa7b753",
   "metadata": {
    "tags": []
   },
   "outputs": [
    {
     "data": {
      "text/plain": [
       "({'calories': 255, 'fat': 21.0, 'carbohydrates': 14.0, 'sodium': 1.0},\n",
       " {'calories': 52, 'fat': 0.2, 'carbohydrates': 13.5, 'sodium': 0})"
      ]
     },
     "execution_count": 12,
     "metadata": {},
     "output_type": "execute_result"
    }
   ],
   "source": [
    "avocado_nutrition_facts, apple_nutrition_facts"
   ]
  },
  {
   "cell_type": "code",
   "execution_count": null,
   "id": "a9994550-abd9-4c41-badb-6deaa04b18b5",
   "metadata": {},
   "outputs": [],
   "source": []
  }
 ],
 "metadata": {
  "kernelspec": {
   "display_name": "Python 3 (ipykernel)",
   "language": "python",
   "name": "python3"
  },
  "language_info": {
   "codemirror_mode": {
    "name": "ipython",
    "version": 3
   },
   "file_extension": ".py",
   "mimetype": "text/x-python",
   "name": "python",
   "nbconvert_exporter": "python",
   "pygments_lexer": "ipython3",
   "version": "3.11.5"
  }
 },
 "nbformat": 4,
 "nbformat_minor": 5
}
